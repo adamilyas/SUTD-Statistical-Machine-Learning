{
 "cells": [
  {
   "cell_type": "markdown",
   "metadata": {},
   "source": [
    "# Regression\n",
    "- [Linear Regression](#Linear-Regression)\n",
    "- [Batch Gradient Descent](#Batch-Gradient-Descent)\n",
    "- [Stochastic Gradient Descent](#Stochastic-Gradient-Descent)\n",
    "\n",
    "\n",
    "output: continous\n",
    "\n",
    "- $f$: actual function\n",
    "- $\\hat{f}$: learned function\n",
    "\n",
    "**Goal** is to find a predictor $\\hat{f} \\in H$ that generalized well, i.e. that predicts well on test data\n",
    "\n",
    "**Train Test Split** Training: 80 - 90, Test: 20 - 10\n",
    "\n",
    "Training data still can be split to 2 more sets:\n",
    "- main training data: 80 - 90 \n",
    "- validation: 20 - 10\n",
    "\n",
    "### Prevent overfitting\n",
    "- larger dataset\n",
    "- early stopping, keep track of test error using validation datase"
   ]
  },
  {
   "cell_type": "code",
   "execution_count": 1,
   "metadata": {},
   "outputs": [],
   "source": [
    "import torch\n",
    "from torch import tensor\n",
    "import pandas as pd\n",
    "import numpy as np\n",
    "\n",
    "import matplotlib.pyplot as plt\n",
    "%matplotlib inline  "
   ]
  },
  {
   "cell_type": "markdown",
   "metadata": {},
   "source": [
    "$$\n",
    "\\mathbf{X} = \n",
    "\\begin{bmatrix}\n",
    "    x_1^{(1)} & \\cdots & x_n^{(1)} \\\\\n",
    "    \\vdots & \\ddots & \\vdots \\\\ \n",
    "    x_1^{(m)} & \\cdots & x_n^{(m)} \\\\\n",
    "\\end{bmatrix}\\ \n",
    "\\text{, }\n",
    "\\mathbf{y} = \\begin{bmatrix}y^{(1)}\\\\\\vdots\\\\y^{(m)}\\end{bmatrix}\\ \n",
    "\\text{and }\n",
    "\\mathbf{\\theta} = \\begin{bmatrix}\\theta^{(1)}\\\\\\vdots\\\\ \\theta^{(n)}\\end{bmatrix}\\ \n",
    "$$\n",
    "\n",
    "($x^{(i)}$ is each feature column)\n",
    "\n",
    "Minimize the __empirical risk__ (average loss, **Least Squares Error**)\n",
    "\n",
    "$$\n",
    "\\begin{align}\n",
    "\\mathcal{J} (\\mathbf{\\theta}) & = \\frac{1}{N}\\sum^{N}_{i=1}( \\langle \\mathbf{\\theta}, \\mathbf{x}^{(i)} \\rangle - y^{(i)})^2\\\\\n",
    "& = \\frac{1}{N}\\sum^{N}_{i=1}(\\mathbf{\\theta}^{T} \\mathbf{x}^{(i)} - y^{(i)})^2\n",
    "\\end{align}\n",
    "$$\n",
    "\n",
    "## Linear Regression\n",
    "Our goal is to find the optimal weights such that\n",
    "\\begin{align}\n",
    "\\mathcal{J}(\\theta) &= \\underset{ \\theta \\in \\ \\mathbb{R}^{2}}{\\operatorname{argmin}} \\{ \\frac{1}{N}\\sum^{N}_{i=1}(\\langle \\theta , \\mathbf{x}^{(i)} \\rangle - y^{(i)})^2 \\}\\\\\n",
    "&= \\underset{ \\mathbf{w} \\in \\ \\mathbb{R}^{2}}{\\operatorname{argmin}} \\frac{1}{N} {||\\mathbf{X}\\theta-\\mathbf{y}||}_2^2,\n",
    "\\end{align}\n",
    "\n",
    "Whenever the matrix $\\mathbf{X}^T \\mathbf{X}$ is invertible,\n",
    "the optimal weight which minimizes the empirical risk, is obtained as \n",
    "$$\n",
    "\\theta = (\\mathbf{X}^T \\mathbf{X})^{-1}\\mathbf{X}^T \\mathbf{y}$$\n",
    "\n",
    "- Finding the value $\\theta$ that minimizes the distance between $X\\theta$ and $y$ \n",
    "- is the same as finding the projection of $y$ onto the column space of $X$\n",
    "\n",
    "This is the same as finding $\\theta$ such that $(X\\theta - y) \\bot $ every column of X i.e \n",
    "    $$X^\\intercal (X\\theta - y) = 0 \\Rightarrow X^\\intercal X \\theta = X^\\intercal y$$ \n",
    "which gives $\\theta = (X^\\intercal X)^{-1} X^\\intercal y$"
   ]
  },
  {
   "cell_type": "code",
   "execution_count": 2,
   "metadata": {},
   "outputs": [
    {
     "data": {
      "text/html": [
       "<div>\n",
       "<style scoped>\n",
       "    .dataframe tbody tr th:only-of-type {\n",
       "        vertical-align: middle;\n",
       "    }\n",
       "\n",
       "    .dataframe tbody tr th {\n",
       "        vertical-align: top;\n",
       "    }\n",
       "\n",
       "    .dataframe thead th {\n",
       "        text-align: right;\n",
       "    }\n",
       "</style>\n",
       "<table border=\"1\" class=\"dataframe\">\n",
       "  <thead>\n",
       "    <tr style=\"text-align: right;\">\n",
       "      <th></th>\n",
       "      <th>Email</th>\n",
       "      <th>Address</th>\n",
       "      <th>Avatar</th>\n",
       "      <th>Avg. Session Length</th>\n",
       "      <th>Time on App</th>\n",
       "      <th>Time on Website</th>\n",
       "      <th>Length of Membership</th>\n",
       "      <th>Yearly Amount Spent</th>\n",
       "    </tr>\n",
       "  </thead>\n",
       "  <tbody>\n",
       "    <tr>\n",
       "      <th>0</th>\n",
       "      <td>mstephenson@fernandez.com</td>\n",
       "      <td>835 Frank Tunnel\\nWrightmouth, MI 82180-9605</td>\n",
       "      <td>Violet</td>\n",
       "      <td>34.497268</td>\n",
       "      <td>12.655651</td>\n",
       "      <td>39.577668</td>\n",
       "      <td>4.082621</td>\n",
       "      <td>587.951054</td>\n",
       "    </tr>\n",
       "    <tr>\n",
       "      <th>1</th>\n",
       "      <td>hduke@hotmail.com</td>\n",
       "      <td>4547 Archer Common\\nDiazchester, CA 06566-8576</td>\n",
       "      <td>DarkGreen</td>\n",
       "      <td>31.926272</td>\n",
       "      <td>11.109461</td>\n",
       "      <td>37.268959</td>\n",
       "      <td>2.664034</td>\n",
       "      <td>392.204933</td>\n",
       "    </tr>\n",
       "    <tr>\n",
       "      <th>2</th>\n",
       "      <td>pallen@yahoo.com</td>\n",
       "      <td>24645 Valerie Unions Suite 582\\nCobbborough, D...</td>\n",
       "      <td>Bisque</td>\n",
       "      <td>33.000915</td>\n",
       "      <td>11.330278</td>\n",
       "      <td>37.110597</td>\n",
       "      <td>4.104543</td>\n",
       "      <td>487.547505</td>\n",
       "    </tr>\n",
       "  </tbody>\n",
       "</table>\n",
       "</div>"
      ],
      "text/plain": [
       "                       Email  \\\n",
       "0  mstephenson@fernandez.com   \n",
       "1          hduke@hotmail.com   \n",
       "2           pallen@yahoo.com   \n",
       "\n",
       "                                             Address     Avatar  \\\n",
       "0       835 Frank Tunnel\\nWrightmouth, MI 82180-9605     Violet   \n",
       "1     4547 Archer Common\\nDiazchester, CA 06566-8576  DarkGreen   \n",
       "2  24645 Valerie Unions Suite 582\\nCobbborough, D...     Bisque   \n",
       "\n",
       "   Avg. Session Length  Time on App  Time on Website  Length of Membership  \\\n",
       "0            34.497268    12.655651        39.577668              4.082621   \n",
       "1            31.926272    11.109461        37.268959              2.664034   \n",
       "2            33.000915    11.330278        37.110597              4.104543   \n",
       "\n",
       "   Yearly Amount Spent  \n",
       "0           587.951054  \n",
       "1           392.204933  \n",
       "2           487.547505  "
      ]
     },
     "execution_count": 2,
     "metadata": {},
     "output_type": "execute_result"
    }
   ],
   "source": [
    "df = pd.read_csv(\"./data/Ecommerce Customers\")\n",
    "df.head(3)\n",
    "# we want to predict 'Yearly Amount Spent'"
   ]
  },
  {
   "cell_type": "code",
   "execution_count": 3,
   "metadata": {},
   "outputs": [],
   "source": [
    "t_type = torch.float64\n",
    "\n",
    "def add_ones(X):\n",
    "    \"\"\"\n",
    "    Add a column of ones at the left hand side of matrix X\n",
    "    X: (N, d) tensor\n",
    "    Returns\n",
    "        (N, d+1) tensor\n",
    "    \"\"\"\n",
    "    ones = torch.ones((X.shape[0],1), dtype=t_type)\n",
    "    X = torch.cat((ones, X), dim=-1)\n",
    "    return X\n",
    "\n",
    "def make_tensor(*args):\n",
    "    \"\"\"\n",
    "    Check if arguments are tensor, converts arguments to tensor\n",
    "    accepts and returns Iterables\n",
    "    \"\"\"\n",
    "    tensors = [el if torch.is_tensor(el) else tensor(el, dtype=t_type) for el in args ]\n",
    "    return tensors[0] if len(tensors)==1 else tensors"
   ]
  },
  {
   "cell_type": "code",
   "execution_count": 4,
   "metadata": {},
   "outputs": [],
   "source": [
    "y = df['Yearly Amount Spent'].values\n",
    "X = df[['Avg. Session Length', 'Time on App', 'Time on Website', 'Length of Membership']].values\n",
    "X, y = make_tensor(X,y)\n",
    "\n",
    "X_b = add_ones(X)\n",
    "y = y.reshape(-1,1)"
   ]
  },
  {
   "cell_type": "code",
   "execution_count": 5,
   "metadata": {},
   "outputs": [],
   "source": [
    "def train_test_split(X, y, test_size=0.2):\n",
    "    N = len(y)\n",
    "    split_index = int(N*test_size)\n",
    "    \n",
    "    indexes = list(range(N))\n",
    "    np.random.shuffle(indexes)\n",
    "    \n",
    "    X_train, X_test = X[split_index:, :], X[:split_index, :]\n",
    "    y_train, y_test = y[split_index:], y[:split_index]\n",
    "    \n",
    "    return X_train, X_test, y_train, y_test\n",
    "\n",
    "def optimal_weight(X,y):\n",
    "    assert X.shape[0] == y.shape[0], f\"dimensions {X.shape} and {y.shape} does not fit\"\n",
    "    X, y = make_tensor(X, y)\n",
    "    w_opt = torch.inverse(X.t()@X) @ X.t() @ y\n",
    "    return w_opt"
   ]
  },
  {
   "cell_type": "code",
   "execution_count": 6,
   "metadata": {},
   "outputs": [
    {
     "name": "stdout",
     "output_type": "stream",
     "text": [
      "tensor([[-1.0655e+03],\n",
      "        [ 2.5980e+01],\n",
      "        [ 3.8672e+01],\n",
      "        [ 5.7624e-01],\n",
      "        [ 6.1841e+01]], dtype=torch.float64)\n"
     ]
    }
   ],
   "source": [
    "X_train, X_test, y_train, y_test = train_test_split(X_b, y)\n",
    "\n",
    "w_opt = optimal_weight(X_train,y_train)\n",
    "y_pred = X_test @ w_opt\n",
    "\n",
    "print(w_opt)"
   ]
  },
  {
   "cell_type": "code",
   "execution_count": 7,
   "metadata": {},
   "outputs": [],
   "source": [
    "def sse(*args):\n",
    "    return ((args[0]-args[1])**2).mean()"
   ]
  },
  {
   "cell_type": "code",
   "execution_count": 8,
   "metadata": {},
   "outputs": [
    {
     "data": {
      "text/plain": [
       "tensor(93.6784, dtype=torch.float64)"
      ]
     },
     "execution_count": 8,
     "metadata": {},
     "output_type": "execute_result"
    }
   ],
   "source": [
    "sse(y_pred, y_test)"
   ]
  },
  {
   "cell_type": "markdown",
   "metadata": {},
   "source": [
    "## Batch Gradient Descent\n",
    "https://towardsdatascience.com/gradient-descent-in-python-a0d07285742f\n",
    "\n",
    "if matrix $X$ is large, inverting $X^\\intercal X$ will be computationally costly.\n",
    "\n",
    "Instead we can find the least squares error using gradient descent.\n",
    "First we compute the gradient of the loss function:\n",
    "\n",
    "$$\n",
    "\\begin{align}\n",
    "    \\frac{\\delta \\mathcal{J}(\\theta)}{\\delta \\theta_j} & = \\sum_{i=1}^m (x^{(i)} \\theta - y^{(i)}) \n",
    "    \\frac{\\delta x^{(i)} \\theta}{\\delta \\theta_j} \\\\\n",
    "    & = \\sum_{i=1}^m (x^{(i)} \\theta - y^{(i)}) \n",
    "    \\frac{\\delta}{\\delta \\theta_j} \\sum_{k=1}^n x_k^{(i)} \\theta_k \\\\\n",
    "    & = \\sum_{i=1}^m (x^{(i)} \\theta - y^{(i)}) \n",
    "    x_j^{(i)}\n",
    "\\end{align}\n",
    "$$\n",
    "\n",
    "We then use it to perform the update rule\n",
    "$$\\theta_j (t+1) = \\theta_j (t) - \\alpha \\sum_{i=1}^m (x^{(i)} \\theta(t) - y^{(i)}) x_j^{(i)} \\text{ , } j=1,\\dots, n\n",
    "$$\n",
    "\n",
    "until the change in the loss function is below a certain a preset tolerance. In matrix notation the update role can be written as\n",
    "\n",
    "$$\\theta_j (t+1) = \\theta_j (t) - \\alpha (X^\\intercal X \\theta(t) - X^\\intercal y)\n",
    "$$\n",
    "\n",
    "- This is also known as batch gradient descent, where all m training points are used at every step.\n",
    "- For linear regression, the loss function is convex and has only one global minimum, so convergence is guaranteed unless the learning rate $\\alpha$ is too large.\n",
    "\n",
    "#### Interpretatiom\n",
    "- $\\alpha$: Size of Steps took in any direction, Learning rate\n",
    "- $\\frac{\\delta \\mathcal{J}(\\theta)}{\\delta \\theta_j} = (X^\\intercal X \\theta(t) - X^\\intercal y)$: Gradient, The direction of your steps\n",
    "- $\\mathcal{J}(\\theta)$: Cost function"
   ]
  },
  {
   "cell_type": "code",
   "execution_count": 9,
   "metadata": {},
   "outputs": [],
   "source": [
    "X = 2 * np.random.rand(100,1)\n",
    "y = 4 +3 * X+np.random.randn(100,1)\n",
    "X, y = make_tensor(X,y)"
   ]
  },
  {
   "cell_type": "code",
   "execution_count": 12,
   "metadata": {},
   "outputs": [],
   "source": [
    "X_b = add_ones(X)"
   ]
  },
  {
   "cell_type": "code",
   "execution_count": 13,
   "metadata": {},
   "outputs": [
    {
     "name": "stdout",
     "output_type": "stream",
     "text": [
      "tensor([[3.8708],\n",
      "        [3.2218]], dtype=torch.float64)\n"
     ]
    },
    {
     "data": {
      "text/plain": [
       "[<matplotlib.lines.Line2D at 0x7fdc93685e80>]"
      ]
     },
     "execution_count": 13,
     "metadata": {},
     "output_type": "execute_result"
    },
    {
     "data": {
      "image/png": "[encoded data removed]",
      "text/plain": [
       "<Figure size 432x288 with 1 Axes>"
      ]
     },
     "metadata": {},
     "output_type": "display_data"
    }
   ],
   "source": [
    "plt.plot(X.tolist(),y.tolist(),'b.')\n",
    "w_opt = optimal_weight(X_b,y)\n",
    "print(w_opt)\n",
    "\n",
    "xs = X_b[:, 1]\n",
    "ys = X_b@w_opt\n",
    "plt.plot(xs.tolist(), ys.tolist(), 'g')\n",
    "\n",
    "xs1 = torch.linspace(0,2, dtype=t_type)\n",
    "ys1 = add_ones(xs1.reshape(-1,1))@w_opt\n",
    "plt.plot(xs1.tolist(), ys1.tolist(), 'r')"
   ]
  },
  {
   "cell_type": "markdown",
   "metadata": {},
   "source": [
    "**Update rule**\n",
    "\n",
    "$$\\theta_j (t+1) = \\theta_j (t) - \\alpha (X^\\intercal X \\theta(t) - X^\\intercal y)$$\n",
    "$$\\theta_j (t+1) = \\theta_j (t) - \\alpha (X^\\intercal( X \\theta - y))$$"
   ]
  },
  {
   "cell_type": "code",
   "execution_count": 17,
   "metadata": {},
   "outputs": [],
   "source": [
    "def calc_cost(X, y, theta):\n",
    "    y_pred = X@theta\n",
    "    return ((y_pred - y)**2).sum()/N   \n",
    "\n",
    "def calc_gradient(X, y, theta):\n",
    "    gradient = X.t() @ (X@theta - y)\n",
    "    return gradient\n",
    "    \n",
    "def update_theta(X,y,theta, alpha):\n",
    "    gradient = calc_gradient(X, y, theta)\n",
    "    theta_new = (theta - alpha*(gradient)/N)    \n",
    "    return theta_new\n",
    "\n",
    "def batch_gradient_descent(X,y,theta,alpha=0.1,max_iter=200, time_alpha=True):\n",
    "    X, y = make_tensor(X, y)  \n",
    "    assert X.shape[0] == y.shape[0], \"Dimensions must fit\"\n",
    "    \n",
    "    N, d = X.shape\n",
    "    theta_history = []\n",
    "    cost_history = []\n",
    "    for _ in range(max_iter):\n",
    "        \n",
    "        # make alpha time dependent\n",
    "        if time_alpha:\n",
    "            alpha_ratio = (max_iter-_/2)/max_iter\n",
    "            alpha = alpha * alpha_ratio\n",
    "\n",
    "        theta = update_theta(X,y,theta, alpha)\n",
    "        cost = calc_cost(X,y,theta)\n",
    "        \n",
    "        theta_history.append(theta)\n",
    "        cost_history.append(cost)\n",
    "        \n",
    "    return theta, cost_history, theta_history"
   ]
  },
  {
   "cell_type": "code",
   "execution_count": 18,
   "metadata": {},
   "outputs": [],
   "source": [
    "def plot_cost_theta(cost_history, theta_history):\n",
    "    d = len(theta_history[0])\n",
    "\n",
    "    fig, ax1 = plt.subplots(figsize=(10,6))\n",
    "    for i in range(d):\n",
    "        theta_list = [theta[i][0] for theta in theta_history]\n",
    "        ax1.plot(theta_list, label=f\"theta {i}\")\n",
    "\n",
    "    ax1.set_ylabel('Theta', color='r')\n",
    "    ax1.tick_params('y', colors='r')\n",
    "    ax1.legend()\n",
    "\n",
    "    ax2 = ax1.twinx()\n",
    "    ax2.plot(cost_history, 'b')\n",
    "    ax2.set_ylabel('Cost', color='b')\n",
    "    ax2.tick_params('y', colors='b')\n",
    "\n",
    "    plt.show()"
   ]
  },
  {
   "cell_type": "code",
   "execution_count": 19,
   "metadata": {},
   "outputs": [
    {
     "data": {
      "image/png": "[encoded data removed]",
      "text/plain": [
       "<Figure size 720x432 with 2 Axes>"
      ]
     },
     "metadata": {},
     "output_type": "display_data"
    },
    {
     "name": "stdout",
     "output_type": "stream",
     "text": [
      "tensor([[3.0321],\n",
      "        [3.8872]], dtype=torch.float64)\n"
     ]
    }
   ],
   "source": [
    "N, d = X_b.shape\n",
    "theta_random = torch.randn((d,1), dtype=torch.double)\n",
    "theta, cost_history, theta_history = batch_gradient_descent(X_b, y, theta_random, alpha=0.1)\n",
    "plot_cost_theta(cost_history, theta_history)\n",
    "print(theta)"
   ]
  },
  {
   "cell_type": "code",
   "execution_count": 20,
   "metadata": {},
   "outputs": [
    {
     "data": {
      "image/png": "[encoded data removed]",
      "text/plain": [
       "<Figure size 720x432 with 2 Axes>"
      ]
     },
     "metadata": {},
     "output_type": "display_data"
    },
    {
     "name": "stdout",
     "output_type": "stream",
     "text": [
      "tensor([[3.8303],\n",
      "        [3.2547]], dtype=torch.float64)\n"
     ]
    }
   ],
   "source": [
    "theta, cost_history, theta_history = batch_gradient_descent(X_b, y, theta_random, alpha=1)\n",
    "plot_cost_theta(cost_history, theta_history)\n",
    "print(theta)"
   ]
  },
  {
   "cell_type": "markdown",
   "metadata": {},
   "source": [
    "## Stochastic Gradient Descent\n",
    "\"Mini batch\"\n",
    "\n",
    "This approach uses random samples but in batches. \n",
    "\n",
    "We calculate the gradients  for a group of observations which results in a faster optimization\n",
    "\n",
    "A simple way to implement is to shuffle the observations and then create batches and then proceed with gradient descent using batches."
   ]
  },
  {
   "cell_type": "code",
   "execution_count": 21,
   "metadata": {},
   "outputs": [],
   "source": [
    "def stochastic_gradient_descent(X,y,theta,alpha=0.01,max_iter=20, time_alpha=True, batch_size=20):\n",
    "    X, y = make_tensor(X, y)  \n",
    "    assert X.shape[0] == y.shape[0], \"Dimensions must fit\"\n",
    "    \n",
    "    N, d = X.shape\n",
    "    theta_history = []\n",
    "    cost_history = []\n",
    "    for _ in range(max_iter):\n",
    "        # make alpha time dependent\n",
    "        if time_alpha:\n",
    "            alpha_ratio = (max_iter-_/2)/max_iter\n",
    "            alpha = alpha * alpha_ratio\n",
    "        \n",
    "        indices = np.random.permutation(N)\n",
    "        X, y = X[indices], y[indices]\n",
    "        \n",
    "        for i in range(0, N, batch_size):\n",
    "            X_i, y_i = X[i:i+batch_size], y[i:i+batch_size]\n",
    "            theta = update_theta(X_i, y_i, theta, alpha)\n",
    "            cost = calc_cost(X_i, y_i, theta)\n",
    "            \n",
    "            theta_history.append(theta)\n",
    "            cost_history.append(cost)\n",
    "        \n",
    "    return theta, cost_history, theta_history"
   ]
  },
  {
   "cell_type": "code",
   "execution_count": 22,
   "metadata": {},
   "outputs": [
    {
     "data": {
      "image/png": "[encoded data removed]",
      "text/plain": [
       "<Figure size 720x432 with 2 Axes>"
      ]
     },
     "metadata": {},
     "output_type": "display_data"
    },
    {
     "name": "stdout",
     "output_type": "stream",
     "text": [
      "tensor([[2.1981],\n",
      "        [3.2824]], dtype=torch.float64)\n"
     ]
    }
   ],
   "source": [
    "theta, cost_history, theta_history = stochastic_gradient_descent(X_b, y, theta_random, alpha=0.1)\n",
    "plot_cost_theta(cost_history, theta_history)\n",
    "print(theta)"
   ]
  },
  {
   "cell_type": "markdown",
   "metadata": {},
   "source": [
    "`sklearn.linear_model.SGDClassifier`\n",
    "https://scikit-learn.org/stable/modules/sgd.html"
   ]
  },
  {
   "cell_type": "code",
   "execution_count": 23,
   "metadata": {},
   "outputs": [
    {
     "data": {
      "text/plain": [
       "array([2.13489003, 2.8502855 ])"
      ]
     },
     "execution_count": 23,
     "metadata": {},
     "output_type": "execute_result"
    }
   ],
   "source": [
    "from sklearn import linear_model\n",
    "clf = linear_model.SGDRegressor(max_iter=1000, tol=1e-2)\n",
    "clf.fit(X_b, y.flatten())\n",
    "clf.coef_"
   ]
  }
 ],
 "metadata": {
  "kernelspec": {
   "display_name": "Python 3",
   "language": "python",
   "name": "python3"
  },
  "language_info": {
   "codemirror_mode": {
    "name": "ipython",
    "version": 3
   },
   "file_extension": ".py",
   "mimetype": "text/x-python",
   "name": "python",
   "nbconvert_exporter": "python",
   "pygments_lexer": "ipython3",
   "version": "3.6.5"
  }
 },
 "nbformat": 4,
 "nbformat_minor": 2
}
