{
 "cells": [
  {
   "cell_type": "markdown",
   "metadata": {},
   "source": [
    "# Perceptron Algorithm"
   ]
  },
  {
   "cell_type": "code",
   "execution_count": 1,
   "metadata": {},
   "outputs": [],
   "source": [
    "import numpy as np\n",
    "import matplotlib.pyplot as plt\n",
    "import seaborn as sns\n",
    "import torch\n",
    "from torch import tensor\n",
    "\n",
    "%matplotlib inline"
   ]
  },
  {
   "cell_type": "code",
   "execution_count": 2,
   "metadata": {},
   "outputs": [
    {
     "data": {
      "text/html": [
       "<div>\n",
       "<style scoped>\n",
       "    .dataframe tbody tr th:only-of-type {\n",
       "        vertical-align: middle;\n",
       "    }\n",
       "\n",
       "    .dataframe tbody tr th {\n",
       "        vertical-align: top;\n",
       "    }\n",
       "\n",
       "    .dataframe thead th {\n",
       "        text-align: right;\n",
       "    }\n",
       "</style>\n",
       "<table border=\"1\" class=\"dataframe\">\n",
       "  <thead>\n",
       "    <tr style=\"text-align: right;\">\n",
       "      <th></th>\n",
       "      <th>sepal_length</th>\n",
       "      <th>sepal_width</th>\n",
       "      <th>petal_length</th>\n",
       "      <th>petal_width</th>\n",
       "      <th>species</th>\n",
       "    </tr>\n",
       "  </thead>\n",
       "  <tbody>\n",
       "    <tr>\n",
       "      <th>0</th>\n",
       "      <td>5.1</td>\n",
       "      <td>3.5</td>\n",
       "      <td>1.4</td>\n",
       "      <td>0.2</td>\n",
       "      <td>setosa</td>\n",
       "    </tr>\n",
       "    <tr>\n",
       "      <th>1</th>\n",
       "      <td>4.9</td>\n",
       "      <td>3.0</td>\n",
       "      <td>1.4</td>\n",
       "      <td>0.2</td>\n",
       "      <td>setosa</td>\n",
       "    </tr>\n",
       "    <tr>\n",
       "      <th>2</th>\n",
       "      <td>4.7</td>\n",
       "      <td>3.2</td>\n",
       "      <td>1.3</td>\n",
       "      <td>0.2</td>\n",
       "      <td>setosa</td>\n",
       "    </tr>\n",
       "    <tr>\n",
       "      <th>3</th>\n",
       "      <td>4.6</td>\n",
       "      <td>3.1</td>\n",
       "      <td>1.5</td>\n",
       "      <td>0.2</td>\n",
       "      <td>setosa</td>\n",
       "    </tr>\n",
       "    <tr>\n",
       "      <th>4</th>\n",
       "      <td>5.0</td>\n",
       "      <td>3.6</td>\n",
       "      <td>1.4</td>\n",
       "      <td>0.2</td>\n",
       "      <td>setosa</td>\n",
       "    </tr>\n",
       "  </tbody>\n",
       "</table>\n",
       "</div>"
      ],
      "text/plain": [
       "   sepal_length  sepal_width  petal_length  petal_width species\n",
       "0           5.1          3.5           1.4          0.2  setosa\n",
       "1           4.9          3.0           1.4          0.2  setosa\n",
       "2           4.7          3.2           1.3          0.2  setosa\n",
       "3           4.6          3.1           1.5          0.2  setosa\n",
       "4           5.0          3.6           1.4          0.2  setosa"
      ]
     },
     "execution_count": 2,
     "metadata": {},
     "output_type": "execute_result"
    }
   ],
   "source": [
    "df = sns.load_dataset(\"iris\")\n",
    "df.head()"
   ]
  },
  {
   "cell_type": "code",
   "execution_count": 3,
   "metadata": {},
   "outputs": [
    {
     "data": {
      "text/html": [
       "<div>\n",
       "<style scoped>\n",
       "    .dataframe tbody tr th:only-of-type {\n",
       "        vertical-align: middle;\n",
       "    }\n",
       "\n",
       "    .dataframe tbody tr th {\n",
       "        vertical-align: top;\n",
       "    }\n",
       "\n",
       "    .dataframe thead th {\n",
       "        text-align: right;\n",
       "    }\n",
       "</style>\n",
       "<table border=\"1\" class=\"dataframe\">\n",
       "  <thead>\n",
       "    <tr style=\"text-align: right;\">\n",
       "      <th></th>\n",
       "      <th>sepal_length</th>\n",
       "      <th>sepal_width</th>\n",
       "      <th>petal_length</th>\n",
       "      <th>petal_width</th>\n",
       "      <th>species</th>\n",
       "      <th>class</th>\n",
       "    </tr>\n",
       "  </thead>\n",
       "  <tbody>\n",
       "    <tr>\n",
       "      <th>0</th>\n",
       "      <td>5.1</td>\n",
       "      <td>3.5</td>\n",
       "      <td>1.4</td>\n",
       "      <td>0.2</td>\n",
       "      <td>setosa</td>\n",
       "      <td>1</td>\n",
       "    </tr>\n",
       "    <tr>\n",
       "      <th>1</th>\n",
       "      <td>4.9</td>\n",
       "      <td>3.0</td>\n",
       "      <td>1.4</td>\n",
       "      <td>0.2</td>\n",
       "      <td>setosa</td>\n",
       "      <td>1</td>\n",
       "    </tr>\n",
       "    <tr>\n",
       "      <th>2</th>\n",
       "      <td>4.7</td>\n",
       "      <td>3.2</td>\n",
       "      <td>1.3</td>\n",
       "      <td>0.2</td>\n",
       "      <td>setosa</td>\n",
       "      <td>1</td>\n",
       "    </tr>\n",
       "    <tr>\n",
       "      <th>3</th>\n",
       "      <td>4.6</td>\n",
       "      <td>3.1</td>\n",
       "      <td>1.5</td>\n",
       "      <td>0.2</td>\n",
       "      <td>setosa</td>\n",
       "      <td>1</td>\n",
       "    </tr>\n",
       "    <tr>\n",
       "      <th>4</th>\n",
       "      <td>5.0</td>\n",
       "      <td>3.6</td>\n",
       "      <td>1.4</td>\n",
       "      <td>0.2</td>\n",
       "      <td>setosa</td>\n",
       "      <td>1</td>\n",
       "    </tr>\n",
       "  </tbody>\n",
       "</table>\n",
       "</div>"
      ],
      "text/plain": [
       "   sepal_length  sepal_width  petal_length  petal_width species  class\n",
       "0           5.1          3.5           1.4          0.2  setosa      1\n",
       "1           4.9          3.0           1.4          0.2  setosa      1\n",
       "2           4.7          3.2           1.3          0.2  setosa      1\n",
       "3           4.6          3.1           1.5          0.2  setosa      1\n",
       "4           5.0          3.6           1.4          0.2  setosa      1"
      ]
     },
     "execution_count": 3,
     "metadata": {},
     "output_type": "execute_result"
    }
   ],
   "source": [
    "df[\"class\"] = df.species.apply(lambda x: 1 if x=='setosa' else -1)\n",
    "df.head()"
   ]
  },
  {
   "cell_type": "code",
   "execution_count": 27,
   "metadata": {},
   "outputs": [],
   "source": [
    "t_type = torch.float64\n",
    "\n",
    "def add_ones(X):\n",
    "    \"\"\"\n",
    "    Add a column of ones at the left hand side of matrix X\n",
    "    X: (N, d) tensor\n",
    "    Returns\n",
    "        (N, d+1) tensor\n",
    "    \"\"\"\n",
    "    ones = torch.ones((X.shape[0],1), dtype=t_type)\n",
    "    X = torch.cat((ones, X), dim=-1)\n",
    "    return X\n",
    "\n",
    "def make_tensor(*args):\n",
    "    \"\"\"\n",
    "    Check if arguments are tensor, converts arguments to tensor\n",
    "    accepts and returns Iterables\n",
    "    \"\"\"\n",
    "    tensors = [el if torch.is_tensor(el) else tensor(el, dtype=t_type) for el in args ]\n",
    "    return tensors[0] if len(tensors)==1 else tensors"
   ]
  },
  {
   "cell_type": "code",
   "execution_count": 28,
   "metadata": {},
   "outputs": [],
   "source": [
    "t_type = torch.float64\n",
    "\n",
    "X = df[df.columns[:3]].values\n",
    "y = df[\"class\"].values\n",
    "X, y = make_tensor(X, y)"
   ]
  },
  {
   "cell_type": "code",
   "execution_count": 29,
   "metadata": {},
   "outputs": [],
   "source": [
    "X_b = add_ones(X)\n",
    "y = y.reshape(-1, 1)"
   ]
  },
  {
   "cell_type": "markdown",
   "metadata": {},
   "source": [
    "Using the count of the number of misclassified points as a loss\n",
    "function is not good as this is a piecewise constant, which means\n",
    "that its gradient is zero almost everywhere and gradient descent\n",
    "methods will not work.\n",
    "\n",
    "Instead we define the perceptron criterion:\n",
    "$$\\mathcal{L}_p = - \\sum_{i \\in \\mathcal{M}} y^{(i)} \\langle \\theta, x^{(i)}\\rangle$$\n",
    "where $\\mathcal{M}$ is the set of misclassified points."
   ]
  },
  {
   "cell_type": "code",
   "execution_count": 234,
   "metadata": {},
   "outputs": [],
   "source": [
    "def signum(z):\n",
    "    return 1 if z >= 0 else -1\n",
    "\n",
    "def calc_loss(X, y, theta):\n",
    "    # perceptron criterion\n",
    "    total_loss = torch.zeros((1,1), dtype=t_type)\n",
    "    N, d = X.shape\n",
    "    for i in range(N):\n",
    "        x_i = X[i, :].reshape(-1, 1) \n",
    "        y_i = y[i, :].reshape(-1, 1)\n",
    "        z = x_i.t()@theta\n",
    "        if signum(z) != y_i.item():\n",
    "            total_loss =- y_i@z\n",
    "            \n",
    "    return total_loss.item()"
   ]
  },
  {
   "cell_type": "markdown",
   "metadata": {},
   "source": [
    "## Perceptron Algorithm\n",
    "\n",
    "1) Pick point $x^{(i)}$ \n",
    "\n",
    "2) For all i from 1 to n-1\n",
    "\n",
    "- If $y^{(i)} \\langle \\theta(t), x^{(i)}\\rangle \\geq 0$, do continue next point\n",
    "\n",
    "- else perform the update rule\n",
    "\n",
    "- Update rule: $\\theta(t + 1) = \\theta(t) - \\alpha \\cdot gradient$ <br>\n",
    "where gradient = $x^{(i)} y^{(i)}$\n",
    "\n",
    "Update rule: \n",
    "$$\\begin{aligned} \\theta(t + 1) \n",
    "&= \\theta(t) - \\alpha \\cdot gradient \\\\\n",
    "&= \\theta(t) - \\alpha \\cdot \\nabla \\mathcal{L}_p (\\theta(t)) \\\\\n",
    "&= \\theta(t) - \\alpha \\cdot x^{(i)} y^{(i)} \\end{aligned}\n",
    "$$\n",
    "where gradient = $x^{(i)} y^{(i)}$"
   ]
  },
  {
   "cell_type": "code",
   "execution_count": 235,
   "metadata": {},
   "outputs": [],
   "source": [
    "def update_theta(x_i, y_i, theta, alpha=0.01):\n",
    "    # data point -> rows\n",
    "    # reshape to make column vector\n",
    "\n",
    "    grad = x_i@y_i\n",
    "    theta = theta + alpha*grad\n",
    "    return theta\n",
    "\n",
    "def is_seperable(x_i, y_i, theta):\n",
    "    return y_i @ theta.t()@x_i >= 0\n",
    "\n",
    "def perceptron_algorithm(X, y, theta, alpha=0.01):\n",
    "    N, d = X.shape\n",
    "    theta = torch.randn((d,1), dtype=t_type)\n",
    "    \n",
    "    loss_history = [calc_loss(X, y, theta)]\n",
    "    theta_history = [theta.tolist()]\n",
    "    \n",
    "    for i in range(N):\n",
    "        x_i = X[i, :].reshape(-1, 1) \n",
    "        y_i = y[i, :].reshape(-1, 1)\n",
    "        if is_seperable(x_i, y_i, theta):\n",
    "            continue\n",
    "        else:\n",
    "            theta = update_theta(x_i, y_i, theta)\n",
    "            theta_history.append(theta.tolist())\n",
    "            \n",
    "            loss = calc_loss(X, y, theta)\n",
    "            loss_history.append(loss)\n",
    "            \n",
    "    return theta, theta_history, loss_history"
   ]
  },
  {
   "cell_type": "code",
   "execution_count": 236,
   "metadata": {},
   "outputs": [
    {
     "data": {
      "text/plain": [
       "[[0.6165114117495851],\n",
       " [0.03355670253425995],\n",
       " [0.25980245869341484],\n",
       " [-0.7360357120392427]]"
      ]
     },
     "execution_count": 236,
     "metadata": {},
     "output_type": "execute_result"
    }
   ],
   "source": [
    "N, d = X.shape\n",
    "theta_random = torch.randn((d,1), dtype=t_type)\n",
    "theta_random.tolist()"
   ]
  },
  {
   "cell_type": "code",
   "execution_count": 245,
   "metadata": {},
   "outputs": [
    {
     "data": {
      "text/plain": [
       "<matplotlib.legend.Legend at 0x7f8d586717f0>"
      ]
     },
     "execution_count": 245,
     "metadata": {},
     "output_type": "execute_result"
    },
    {
     "data": {
      "image/png": "[encoded data removed]",
      "text/plain": [
       "<Figure size 432x288 with 1 Axes>"
      ]
     },
     "metadata": {},
     "output_type": "display_data"
    }
   ],
   "source": [
    "theta, theta_history, loss_history = perceptron_algorithm(X, y, theta=theta_random, alpha=0.01)\n",
    "plt.plot(loss_history, label=\"loss\")\n",
    "for i in range(d):\n",
    "    label = 'bias' if i == 0 else f'theta {i+1}'\n",
    "    plt.plot(\n",
    "        np.array(theta_history)[:, i]\n",
    "        , label=label)\n",
    "plt.legend()"
   ]
  },
  {
   "cell_type": "code",
   "execution_count": 240,
   "metadata": {},
   "outputs": [
    {
     "data": {
      "text/plain": [
       "<matplotlib.legend.Legend at 0x7f8d586ece80>"
      ]
     },
     "execution_count": 240,
     "metadata": {},
     "output_type": "execute_result"
    },
    {
     "data": {
      "image/png": "[encoded data removed]",
      "text/plain": [
       "<Figure size 432x288 with 1 Axes>"
      ]
     },
     "metadata": {},
     "output_type": "display_data"
    }
   ],
   "source": [
    "for alpha in [1, 0.5, 0.1, 0.05]:\n",
    "    theta, theta_history, loss_history = perceptron_algorithm(X, y, theta=theta_random, alpha=0.01)"
   ]
  },
  {
   "cell_type": "code",
   "execution_count": null,
   "metadata": {},
   "outputs": [],
   "source": []
  },
  {
   "cell_type": "code",
   "execution_count": null,
   "metadata": {},
   "outputs": [],
   "source": []
  }
 ],
 "metadata": {
  "kernelspec": {
   "display_name": "Python 3",
   "language": "python",
   "name": "python3"
  },
  "language_info": {
   "codemirror_mode": {
    "name": "ipython",
    "version": 3
   },
   "file_extension": ".py",
   "mimetype": "text/x-python",
   "name": "python",
   "nbconvert_exporter": "python",
   "pygments_lexer": "ipython3",
   "version": "3.6.5"
  }
 },
 "nbformat": 4,
 "nbformat_minor": 2
}
