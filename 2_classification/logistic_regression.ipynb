{
 "cells": [
  {
   "cell_type": "code",
   "execution_count": 1,
   "metadata": {},
   "outputs": [],
   "source": [
    "import numpy as np\n",
    "import matplotlib.pyplot as plt\n",
    "import seaborn as sns\n",
    "\n",
    "import torch\n",
    "from torch import tensor\n",
    "from utils import add_ones, make_tensor, minmax_scale, t_type\n",
    "\n",
    "%matplotlib inline"
   ]
  },
  {
   "cell_type": "code",
   "execution_count": 2,
   "metadata": {},
   "outputs": [
    {
     "data": {
      "text/html": [
       "<div>\n",
       "<style scoped>\n",
       "    .dataframe tbody tr th:only-of-type {\n",
       "        vertical-align: middle;\n",
       "    }\n",
       "\n",
       "    .dataframe tbody tr th {\n",
       "        vertical-align: top;\n",
       "    }\n",
       "\n",
       "    .dataframe thead th {\n",
       "        text-align: right;\n",
       "    }\n",
       "</style>\n",
       "<table border=\"1\" class=\"dataframe\">\n",
       "  <thead>\n",
       "    <tr style=\"text-align: right;\">\n",
       "      <th></th>\n",
       "      <th>sepal_length</th>\n",
       "      <th>sepal_width</th>\n",
       "      <th>petal_length</th>\n",
       "      <th>petal_width</th>\n",
       "      <th>species</th>\n",
       "      <th>class</th>\n",
       "    </tr>\n",
       "  </thead>\n",
       "  <tbody>\n",
       "    <tr>\n",
       "      <th>0</th>\n",
       "      <td>5.1</td>\n",
       "      <td>3.5</td>\n",
       "      <td>1.4</td>\n",
       "      <td>0.2</td>\n",
       "      <td>setosa</td>\n",
       "      <td>1</td>\n",
       "    </tr>\n",
       "    <tr>\n",
       "      <th>1</th>\n",
       "      <td>4.9</td>\n",
       "      <td>3.0</td>\n",
       "      <td>1.4</td>\n",
       "      <td>0.2</td>\n",
       "      <td>setosa</td>\n",
       "      <td>1</td>\n",
       "    </tr>\n",
       "    <tr>\n",
       "      <th>2</th>\n",
       "      <td>4.7</td>\n",
       "      <td>3.2</td>\n",
       "      <td>1.3</td>\n",
       "      <td>0.2</td>\n",
       "      <td>setosa</td>\n",
       "      <td>1</td>\n",
       "    </tr>\n",
       "    <tr>\n",
       "      <th>3</th>\n",
       "      <td>4.6</td>\n",
       "      <td>3.1</td>\n",
       "      <td>1.5</td>\n",
       "      <td>0.2</td>\n",
       "      <td>setosa</td>\n",
       "      <td>1</td>\n",
       "    </tr>\n",
       "    <tr>\n",
       "      <th>4</th>\n",
       "      <td>5.0</td>\n",
       "      <td>3.6</td>\n",
       "      <td>1.4</td>\n",
       "      <td>0.2</td>\n",
       "      <td>setosa</td>\n",
       "      <td>1</td>\n",
       "    </tr>\n",
       "  </tbody>\n",
       "</table>\n",
       "</div>"
      ],
      "text/plain": [
       "   sepal_length  sepal_width  petal_length  petal_width species  class\n",
       "0           5.1          3.5           1.4          0.2  setosa      1\n",
       "1           4.9          3.0           1.4          0.2  setosa      1\n",
       "2           4.7          3.2           1.3          0.2  setosa      1\n",
       "3           4.6          3.1           1.5          0.2  setosa      1\n",
       "4           5.0          3.6           1.4          0.2  setosa      1"
      ]
     },
     "execution_count": 2,
     "metadata": {},
     "output_type": "execute_result"
    }
   ],
   "source": [
    "df = sns.load_dataset(\"iris\")\n",
    "df[\"class\"] = df.species.apply(lambda x: 1 if x=='setosa' else 0)\n",
    "df.head()"
   ]
  },
  {
   "cell_type": "code",
   "execution_count": 3,
   "metadata": {},
   "outputs": [],
   "source": [
    "X = df[df.columns[:3]].values\n",
    "y = df[\"class\"].values\n",
    "y = y.reshape(-1,1)"
   ]
  },
  {
   "cell_type": "markdown",
   "metadata": {},
   "source": [
    "Sigmoid function $$\\sigma{(z)} = \\frac{1}{1+e^{-z}}$$\n",
    "Hypothesis function $$h_\\theta (x^{(i)}) = \\sigma (\\langle \\theta, x^{(i)} \\rangle)$$\n",
    "\n",
    "Update rule: for $j = 1, \\dots , d$\n",
    "$$\\theta_j(t+1)= \\theta_j(t) + \\alpha \\cdot gradient_j$$\n",
    "$$gradient_j = \\sum_{i=1}^N (y^{(i)} - \\alpha(\\langle \\theta, x^{(i)}\\rangle)) x_j^{(i)}$$"
   ]
  },
  {
   "cell_type": "markdown",
   "metadata": {},
   "source": [
    "$$\n",
    "\\begin{align}\n",
    "gradient =\n",
    "\\begin{bmatrix}\n",
    "gradient_1 \\\\ gradient_2 \\\\ \\vdots \\\\ gradient_N\n",
    "\\end{bmatrix} \n",
    "&= \n",
    "\\begin{bmatrix}\n",
    "x^{(1)} \\\\ x^{(2)} \\\\ \\vdots \\\\ x^{(N)}\n",
    "\\end{bmatrix}^{\\mathbf{T}}\n",
    "\\Bigg(\n",
    "\\begin{bmatrix}\n",
    "y^{(1)} \\\\ y^{(2)} \\\\ \\vdots \\\\ y^{(N)}\n",
    "\\end{bmatrix} - \\sigma \\bigg(\n",
    "\\begin{bmatrix}\n",
    "x^{(1)} \\\\ x^{(2)} \\\\ \\vdots \\\\ x^{(N)}\n",
    "\\end{bmatrix}\n",
    "\\begin{bmatrix}\n",
    "\\theta_1 \\\\ \\theta_2 \\\\ \\vdots \\\\ \\theta_d\n",
    "\\end{bmatrix}\n",
    "\\bigg)\n",
    "\\Bigg) \\\\\n",
    "gradient &= X^\\mathbf{T} (y - \\sigma (X \\theta))\n",
    "\\end{align}\n",
    "$$"
   ]
  },
  {
   "cell_type": "code",
   "execution_count": 6,
   "metadata": {},
   "outputs": [
    {
     "data": {
      "text/plain": [
       "[<matplotlib.lines.Line2D at 0x7ff81dcf2278>]"
      ]
     },
     "execution_count": 6,
     "metadata": {},
     "output_type": "execute_result"
    },
    {
     "data": {
      "image/png": "[encoded data removed]",
      "text/plain": [
       "<Figure size 432x288 with 1 Axes>"
      ]
     },
     "metadata": {},
     "output_type": "display_data"
    }
   ],
   "source": [
    "def sigmoid(z):\n",
    "    # z: torch.float64\n",
    "    return 1/(1+torch.exp(-z))\n",
    "\n",
    "def gradient(X, y, theta):\n",
    "    z = X@theta\n",
    "    return X.t()@(y - sigmoid(z))\n",
    "\n",
    "def log_likelihood(X, y, theta):\n",
    "    z = X@theta\n",
    "    return y.t()@torch.log(sigmoid(z)) + (1-y).t()@torch.log(sigmoid(-z))\n",
    "\n",
    "def logistic_regression_function(X, y, n_iter = 1000, step_size = 0.01):\n",
    "    X, y = make_tensor(X, y)\n",
    "    X = minmax_scale(add_ones(X))\n",
    "    y = y.reshape(-1, 1)\n",
    "    \n",
    "    N, d = X.shape\n",
    "    theta = torch.zeros((d,1), dtype=t_type)\n",
    "    ll = []\n",
    "    theta_list = []\n",
    "    for i in range(n_iter):\n",
    "        grad = gradient(X, y, theta)\n",
    "        # update theta via gradient ascent\n",
    "        # maximise log likelihood\n",
    "        theta = theta + step_size * grad\n",
    "        ll.append(log_likelihood(X,y,theta).item())\n",
    "        theta_list.append(theta)\n",
    "    return theta, ll, theta_list\n",
    "\n",
    "theta, ll, theta_list = logistic_regression_function(X, y, n_iter=1000)\n",
    "plt.plot(ll)"
   ]
  },
  {
   "cell_type": "code",
   "execution_count": 20,
   "metadata": {},
   "outputs": [
    {
     "data": {
      "text/html": [
       "<div>\n",
       "<style scoped>\n",
       "    .dataframe tbody tr th:only-of-type {\n",
       "        vertical-align: middle;\n",
       "    }\n",
       "\n",
       "    .dataframe tbody tr th {\n",
       "        vertical-align: top;\n",
       "    }\n",
       "\n",
       "    .dataframe thead th {\n",
       "        text-align: right;\n",
       "    }\n",
       "</style>\n",
       "<table border=\"1\" class=\"dataframe\">\n",
       "  <thead>\n",
       "    <tr style=\"text-align: right;\">\n",
       "      <th></th>\n",
       "      <th>sepal_length</th>\n",
       "      <th>sepal_width</th>\n",
       "      <th>petal_length</th>\n",
       "      <th>petal_width</th>\n",
       "      <th>species</th>\n",
       "    </tr>\n",
       "  </thead>\n",
       "  <tbody>\n",
       "    <tr>\n",
       "      <th>0</th>\n",
       "      <td>5.1</td>\n",
       "      <td>3.5</td>\n",
       "      <td>1.4</td>\n",
       "      <td>0.2</td>\n",
       "      <td>setosa</td>\n",
       "    </tr>\n",
       "    <tr>\n",
       "      <th>1</th>\n",
       "      <td>4.9</td>\n",
       "      <td>3.0</td>\n",
       "      <td>1.4</td>\n",
       "      <td>0.2</td>\n",
       "      <td>setosa</td>\n",
       "    </tr>\n",
       "    <tr>\n",
       "      <th>2</th>\n",
       "      <td>4.7</td>\n",
       "      <td>3.2</td>\n",
       "      <td>1.3</td>\n",
       "      <td>0.2</td>\n",
       "      <td>setosa</td>\n",
       "    </tr>\n",
       "    <tr>\n",
       "      <th>3</th>\n",
       "      <td>4.6</td>\n",
       "      <td>3.1</td>\n",
       "      <td>1.5</td>\n",
       "      <td>0.2</td>\n",
       "      <td>setosa</td>\n",
       "    </tr>\n",
       "    <tr>\n",
       "      <th>4</th>\n",
       "      <td>5.0</td>\n",
       "      <td>3.6</td>\n",
       "      <td>1.4</td>\n",
       "      <td>0.2</td>\n",
       "      <td>setosa</td>\n",
       "    </tr>\n",
       "  </tbody>\n",
       "</table>\n",
       "</div>"
      ],
      "text/plain": [
       "   sepal_length  sepal_width  petal_length  petal_width species\n",
       "0           5.1          3.5           1.4          0.2  setosa\n",
       "1           4.9          3.0           1.4          0.2  setosa\n",
       "2           4.7          3.2           1.3          0.2  setosa\n",
       "3           4.6          3.1           1.5          0.2  setosa\n",
       "4           5.0          3.6           1.4          0.2  setosa"
      ]
     },
     "execution_count": 20,
     "metadata": {},
     "output_type": "execute_result"
    }
   ],
   "source": [
    "df = sns.load_dataset(\"iris\")\n",
    "df.head()"
   ]
  },
  {
   "cell_type": "code",
   "execution_count": 29,
   "metadata": {},
   "outputs": [],
   "source": [
    "y = df.species"
   ]
  },
  {
   "cell_type": "code",
   "execution_count": 33,
   "metadata": {},
   "outputs": [
    {
     "data": {
      "text/plain": [
       "tensor([1., 1., 1., 1., 1., 1., 1., 1., 1., 1., 1., 1., 1., 1., 1., 1., 1., 1.,\n",
       "        1., 1., 1., 1., 1., 1., 1., 1., 1., 1., 1., 1., 1., 1., 1., 1., 1., 1.,\n",
       "        1., 1., 1., 1., 1., 1., 1., 1., 1., 1., 1., 1., 1., 1., 0., 0., 0., 0.,\n",
       "        0., 0., 0., 0., 0., 0., 0., 0., 0., 0., 0., 0., 0., 0., 0., 0., 0., 0.,\n",
       "        0., 0., 0., 0., 0., 0., 0., 0., 0., 0., 0., 0., 0., 0., 0., 0., 0., 0.,\n",
       "        0., 0., 0., 0., 0., 0., 0., 0., 0., 0., 0., 0., 0., 0., 0., 0., 0., 0.,\n",
       "        0., 0., 0., 0., 0., 0., 0., 0., 0., 0., 0., 0., 0., 0., 0., 0., 0., 0.,\n",
       "        0., 0., 0., 0., 0., 0., 0., 0., 0., 0., 0., 0., 0., 0., 0., 0., 0., 0.,\n",
       "        0., 0., 0., 0., 0., 0.], dtype=torch.float64)"
      ]
     },
     "execution_count": 33,
     "metadata": {},
     "output_type": "execute_result"
    }
   ],
   "source": [
    "k = 'setosa'\n",
    "y_k = y.apply(lambda x: 1 if x==k else 0)\n",
    "y_k = make_tensor(y_k.values)"
   ]
  },
  {
   "cell_type": "code",
   "execution_count": 112,
   "metadata": {},
   "outputs": [],
   "source": [
    "class LogisticRegression:\n",
    "    def __init__(self, alpha=0.01, max_iter=1000, fit_intercept=True):\n",
    "        self.alpha = alpha # learning rate\n",
    "        self.max_iter = max_iter\n",
    "        self.__fit_intercept = fit_intercept\n",
    "        self.loss_history = []\n",
    "        self.theta_history = []\n",
    "        \n",
    "    def __sigmoid(self, z):\n",
    "        # z: torch.float64\n",
    "        return 1/(1+torch.exp(-z))\n",
    "\n",
    "    def __gradient(self, X, y, theta):\n",
    "        z = X@theta\n",
    "        return X.t()@(y - self.__sigmoid(z))\n",
    "\n",
    "    def log_likelihood(self, X, y, theta):\n",
    "        z = X@theta\n",
    "        return y.t()@torch.log(self.__sigmoid(z)) + (1-y).t()@torch.log(self.__sigmoid(-z))\n",
    "    \n",
    "    def fit(self, X,y):\n",
    "        \"\"\"\n",
    "        X: (N, d) matrix (iterable)\n",
    "        y: (N, 1) column vector (iterable)\n",
    "        \"\"\"\n",
    "        X, y = make_tensor(X, y)\n",
    "        assert X.shape[0] == y.shape[0], \"Dimensions must fit\"\n",
    "        X = minmax_scale(X) # scale\n",
    "        if self.__fit_intercept:\n",
    "            X = add_ones(X)\n",
    "        N, d = X.shape\n",
    "        \n",
    "        theta = torch.zeros((d,1), dtype=t_type) # initialize gradient\n",
    "        # reset history\n",
    "        self.loss_history.clear()\n",
    "        self.theta_history.clear()\n",
    "        for i in range(self.max_iter):\n",
    "            grad = self.__gradient(X, y, theta)\n",
    "            # update theta via gradient ascent\n",
    "            # maximise log likelihood\n",
    "            theta = theta + self.alpha * grad\n",
    "            self.loss_history.append(-self.log_likelihood(X,y,theta).item())\n",
    "            self.theta_history.append(theta)    \n",
    "        self.theta = theta"
   ]
  },
  {
   "cell_type": "code",
   "execution_count": 113,
   "metadata": {},
   "outputs": [],
   "source": [
    "lm = LogisticRegression()"
   ]
  },
  {
   "cell_type": "code",
   "execution_count": 117,
   "metadata": {},
   "outputs": [],
   "source": [
    "y = y.apply(lambda x: 1 if x=='setosa' else 0).values.reshape(-1,1)\n",
    "lm.fit(X, y)"
   ]
  },
  {
   "cell_type": "code",
   "execution_count": 118,
   "metadata": {},
   "outputs": [
    {
     "data": {
      "text/plain": [
       "[<matplotlib.lines.Line2D at 0x7ff81c180be0>]"
      ]
     },
     "execution_count": 118,
     "metadata": {},
     "output_type": "execute_result"
    },
    {
     "data": {
      "image/png": "[encoded data removed]",
      "text/plain": [
       "<Figure size 432x288 with 1 Axes>"
      ]
     },
     "metadata": {},
     "output_type": "display_data"
    }
   ],
   "source": [
    "plt.plot(lm.loss_history)"
   ]
  }
 ],
 "metadata": {
  "kernelspec": {
   "display_name": "Python 3",
   "language": "python",
   "name": "python3"
  },
  "language_info": {
   "codemirror_mode": {
    "name": "ipython",
    "version": 3
   },
   "file_extension": ".py",
   "mimetype": "text/x-python",
   "name": "python",
   "nbconvert_exporter": "python",
   "pygments_lexer": "ipython3",
   "version": "3.6.5"
  }
 },
 "nbformat": 4,
 "nbformat_minor": 2
}
