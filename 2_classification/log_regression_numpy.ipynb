{
 "cells": [
  {
   "cell_type": "code",
   "execution_count": 1,
   "metadata": {},
   "outputs": [],
   "source": [
    "import numpy as np\n",
    "import matplotlib.pyplot as plt\n",
    "import seaborn as sns\n",
    "\n",
    "%matplotlib inline"
   ]
  },
  {
   "cell_type": "code",
   "execution_count": 2,
   "metadata": {},
   "outputs": [
    {
     "data": {
      "text/html": [
       "<div>\n",
       "<style scoped>\n",
       "    .dataframe tbody tr th:only-of-type {\n",
       "        vertical-align: middle;\n",
       "    }\n",
       "\n",
       "    .dataframe tbody tr th {\n",
       "        vertical-align: top;\n",
       "    }\n",
       "\n",
       "    .dataframe thead th {\n",
       "        text-align: right;\n",
       "    }\n",
       "</style>\n",
       "<table border=\"1\" class=\"dataframe\">\n",
       "  <thead>\n",
       "    <tr style=\"text-align: right;\">\n",
       "      <th></th>\n",
       "      <th>sepal_length</th>\n",
       "      <th>sepal_width</th>\n",
       "      <th>petal_length</th>\n",
       "      <th>petal_width</th>\n",
       "      <th>species</th>\n",
       "      <th>class</th>\n",
       "    </tr>\n",
       "  </thead>\n",
       "  <tbody>\n",
       "    <tr>\n",
       "      <th>0</th>\n",
       "      <td>5.1</td>\n",
       "      <td>3.5</td>\n",
       "      <td>1.4</td>\n",
       "      <td>0.2</td>\n",
       "      <td>setosa</td>\n",
       "      <td>1</td>\n",
       "    </tr>\n",
       "    <tr>\n",
       "      <th>1</th>\n",
       "      <td>4.9</td>\n",
       "      <td>3.0</td>\n",
       "      <td>1.4</td>\n",
       "      <td>0.2</td>\n",
       "      <td>setosa</td>\n",
       "      <td>1</td>\n",
       "    </tr>\n",
       "    <tr>\n",
       "      <th>2</th>\n",
       "      <td>4.7</td>\n",
       "      <td>3.2</td>\n",
       "      <td>1.3</td>\n",
       "      <td>0.2</td>\n",
       "      <td>setosa</td>\n",
       "      <td>1</td>\n",
       "    </tr>\n",
       "    <tr>\n",
       "      <th>3</th>\n",
       "      <td>4.6</td>\n",
       "      <td>3.1</td>\n",
       "      <td>1.5</td>\n",
       "      <td>0.2</td>\n",
       "      <td>setosa</td>\n",
       "      <td>1</td>\n",
       "    </tr>\n",
       "    <tr>\n",
       "      <th>4</th>\n",
       "      <td>5.0</td>\n",
       "      <td>3.6</td>\n",
       "      <td>1.4</td>\n",
       "      <td>0.2</td>\n",
       "      <td>setosa</td>\n",
       "      <td>1</td>\n",
       "    </tr>\n",
       "  </tbody>\n",
       "</table>\n",
       "</div>"
      ],
      "text/plain": [
       "   sepal_length  sepal_width  petal_length  petal_width species  class\n",
       "0           5.1          3.5           1.4          0.2  setosa      1\n",
       "1           4.9          3.0           1.4          0.2  setosa      1\n",
       "2           4.7          3.2           1.3          0.2  setosa      1\n",
       "3           4.6          3.1           1.5          0.2  setosa      1\n",
       "4           5.0          3.6           1.4          0.2  setosa      1"
      ]
     },
     "execution_count": 2,
     "metadata": {},
     "output_type": "execute_result"
    }
   ],
   "source": [
    "df = sns.load_dataset(\"iris\")\n",
    "df[\"class\"] = df.species.apply(lambda x: 1 if x=='setosa' else 0)\n",
    "df.head()"
   ]
  },
  {
   "cell_type": "code",
   "execution_count": 3,
   "metadata": {},
   "outputs": [],
   "source": [
    "X = df[df.columns[:3]].values\n",
    "y = df[\"class\"].values"
   ]
  },
  {
   "cell_type": "code",
   "execution_count": 4,
   "metadata": {},
   "outputs": [],
   "source": [
    "def minmax_scale(X):\n",
    "    N, d = X.shape\n",
    "    for col in range(d):\n",
    "        col_min, col_max = X[:, col].min(), X[:, col].max()\n",
    "        X[:, col] = (X[:, col] - col_min) / (col_max - col_min)\n",
    "    return X"
   ]
  },
  {
   "cell_type": "code",
   "execution_count": 5,
   "metadata": {},
   "outputs": [],
   "source": [
    "X_scaled = minmax_scale(X)"
   ]
  },
  {
   "cell_type": "code",
   "execution_count": 6,
   "metadata": {},
   "outputs": [],
   "source": [
    "class logmodel:\n",
    "    def __init__(self, step_size=20, n_iter=3000):\n",
    "        self.step_size = step_size\n",
    "        self.n_iter = n_iter\n",
    "        self.loss_list = []\n",
    "        self.weights = []\n",
    "        \n",
    "    def __sigmoid(self, z):\n",
    "        return 1/(1+np.exp(-z))\n",
    "    \n",
    "    def __gradient(self, X,y,w):\n",
    "        N, d = X.shape\n",
    "        # Initialize grad as 1xd array.\n",
    "        grad=np.zeros((1,d))\n",
    "        for i in range(N):\n",
    "            grad=grad+(self.__sigmoid(np.dot(X[i,:],np.transpose(w)))-y[i])*X[i,:]\n",
    "        grad=np.dot(1/N,grad)\n",
    "        return grad\n",
    "    \n",
    "    def logisticRegression_func(self,X,y):\n",
    "        \"\"\"\n",
    "        K: no. of iteration\n",
    "        \"\"\"\n",
    "        N, d = X.shape\n",
    "        # Initialize w as 1xd array.\n",
    "        w = np.zeros((1,d))\n",
    "        loss = float('inf')\n",
    "        loss_list = []\n",
    "        for i in range(self.n_iter):\n",
    "            grad=self.__gradient(X,y,w)\n",
    "            w = w-self.step_size * grad\n",
    "            l = self.__sigmoid(np.dot(X,np.transpose(w)))\n",
    "            loss = -np.dot(np.squeeze(np.asarray(y)),np.log(l))-np.dot(1-np.squeeze(np.asarray(y)),np.log(1-l))\n",
    "            loss_list.append(loss/N)\n",
    "        self.loss_list.append(loss_list)\n",
    "        \n",
    "        return w\n",
    "    \n",
    "    def fit(self,X,y):\n",
    "        self.label_names = np.unique(y)\n",
    "        classes = np.unique(y)\n",
    "        if len(classes) == 2:\n",
    "            y_prime = np.array([1 if label == classes[0] else 0 for label in y])\n",
    "            w = self.logisticRegression_func(X,y_prime)\n",
    "            self.weights.append(w)\n",
    "        else:\n",
    "            for k in classes:\n",
    "                y_prime = np.array([1 if label == k else 0 for label in y])\n",
    "                w = self.logisticRegression_func(X,y_prime)\n",
    "                self.weights.append(w)\n",
    "            \n",
    "    def predict(self, X, show_prob=False):\n",
    "        k = len(np.unique(self.label_names)) # no. of classes\n",
    "        N, d = X.shape # 55, 3\n",
    "        \n",
    "        y_predict = np.zeros((N,k))\n",
    "        for i, w in enumerate(self.weights):\n",
    "            y_predict[:, i] = self.__sigmoid(np.dot(X,np.transpose(w))).flatten()\n",
    "        \n",
    "        if show_prob:\n",
    "            return y_predict\n",
    "        else:\n",
    "            return np.apply_along_axis(np.argmax, 1, y_predict)"
   ]
  },
  {
   "cell_type": "code",
   "execution_count": 7,
   "metadata": {},
   "outputs": [
    {
     "data": {
      "text/plain": [
       "[array([[  9.57014967, -26.62573728,  25.97709358]])]"
      ]
     },
     "execution_count": 7,
     "metadata": {},
     "output_type": "execute_result"
    }
   ],
   "source": [
    "lm = logmodel(n_iter=5000)\n",
    "lm.fit(X_scaled,y)\n",
    "weights = lm.weights\n",
    "weights"
   ]
  },
  {
   "cell_type": "code",
   "execution_count": 8,
   "metadata": {},
   "outputs": [],
   "source": [
    "loss_list = np.array(lm.loss_list[:])"
   ]
  },
  {
   "cell_type": "code",
   "execution_count": 9,
   "metadata": {},
   "outputs": [
    {
     "data": {
      "text/plain": [
       "(1, 5000, 1)"
      ]
     },
     "execution_count": 9,
     "metadata": {},
     "output_type": "execute_result"
    }
   ],
   "source": [
    "loss_list.shape"
   ]
  },
  {
   "cell_type": "code",
   "execution_count": 13,
   "metadata": {},
   "outputs": [
    {
     "data": {
      "text/plain": [
       "[<matplotlib.lines.Line2D at 0x7f189b289710>]"
      ]
     },
     "execution_count": 13,
     "metadata": {},
     "output_type": "execute_result"
    },
    {
     "data": {
      "image/png": "[encoded data removed]",
      "text/plain": [
       "<Figure size 432x288 with 1 Axes>"
      ]
     },
     "metadata": {},
     "output_type": "display_data"
    }
   ],
   "source": [
    "plt.plot(loss_list[0].flatten())"
   ]
  }
 ],
 "metadata": {
  "kernelspec": {
   "display_name": "Python 3",
   "language": "python",
   "name": "python3"
  },
  "language_info": {
   "codemirror_mode": {
    "name": "ipython",
    "version": 3
   },
   "file_extension": ".py",
   "mimetype": "text/x-python",
   "name": "python",
   "nbconvert_exporter": "python",
   "pygments_lexer": "ipython3",
   "version": "3.6.5"
  }
 },
 "nbformat": 4,
 "nbformat_minor": 2
}
