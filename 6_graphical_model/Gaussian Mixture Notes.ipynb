{
 "cells": [
  {
   "cell_type": "markdown",
   "metadata": {},
   "source": [
    "## Multivariate Normal Distribution\n",
    "$$ \n",
    "\\mathcal{N}(\\mathbf{x} | \\boldsymbol{\\mu}, \\mathbf{\\Sigma})=\\frac{1}{(2 \\pi)^{D / 2}} \\frac{1}{|\\mathbf{\\Sigma}|^{1 / 2}} \\exp \\left\\{-\\frac{1}{2}(\\mathbf{x}-\\boldsymbol{\\mu})^{\\mathrm{T}} \\boldsymbol{\\Sigma}^{-1}(\\mathbf{x}-\\boldsymbol{\\mu})\\right\\}\n",
    "$$\n",
    "where $D$ is number of dimensions"
   ]
  },
  {
   "cell_type": "markdown",
   "metadata": {},
   "source": [
    "$$\n",
    "\\begin{aligned}\n",
    "\\log p\\left(x^{(i)}\\right) \n",
    "&= \\log \\sum_{j=1}^{m} p\\left(x^{(i)}, Z=j \\right)\\\\\n",
    "&= \\log \\sum_{j=1}^{m} p\\left(x^{(i)} | Z=j\\right) \\cdot P(Z=j)\n",
    "\\end{aligned}\n",
    "$$"
   ]
  },
  {
   "cell_type": "markdown",
   "metadata": {},
   "source": [
    "## log-likelihood\n",
    "$$\n",
    "\\begin{aligned} \\ell(\\pi, \\mu, \\Sigma)=\\sum_{i=1}^{N} \\log p\\left(x^{(i)}\\right)\n",
    "&= \\sum_{i=1}^{N} \\log \\sum_{j=1}^{m} p\\left(x^{(i)} | Z=j\\right) \\cdot P(Z=j) \\\\ \n",
    "&= \\sum_{i=1}^{N} \\log \\sum_{j=1}^{m} \\\\\n",
    "&= \\sum_{i=1}^{N} \\log \\sum_{j=1}^{m} \\frac{1}{(2 \\pi)^{D / 2}} \\frac{1}{|\\mathbf{\\Sigma}|^{1 / 2}} \\exp \\left\\{-\\frac{1}{2}(\\mathbf{x}-\\boldsymbol{\\mu})^{\\mathrm{T}} \\boldsymbol{\\Sigma}^{-1}(\\mathbf{x}-\\boldsymbol{\\mu})\\right\\}\n",
    "\\cdot \\pi_j\\\\\n",
    "&= \\sum_{i=1}^{N} \\log \\sum_{j=1}^{m} C_j \\exp \\left\\{-\\frac{1}{2}(\\mathbf{x}-\\boldsymbol{\\mu})^{\\mathrm{T}} \\boldsymbol{\\Sigma}^{-1}(\\mathbf{x}-\\boldsymbol{\\mu})\\right\\}\n",
    "\\cdot \\pi_j\\end{aligned}\n",
    "$$"
   ]
  },
  {
   "cell_type": "markdown",
   "metadata": {},
   "source": [
    "## E-step:\n",
    "Evaluate the responsibilities using the current parameter values:\n",
    "$$ \n",
    "\\gamma\\left(z_{n k}\\right)=\\frac{\\pi_{k} \\mathcal{N}\\left(\\mathbf{x}_{n} | \\boldsymbol{\\mu}_{k}, \\mathbf{\\Sigma}_{k}\\right)}{\\sum_{j=1}^{K} \\pi_{j} \\mathcal{N}\\left(\\mathbf{x}_{n} | \\boldsymbol{\\mu}_{j}, \\mathbf{\\Sigma}_{j}\\right)}\n",
    " $$"
   ]
  },
  {
   "cell_type": "code",
   "execution_count": null,
   "metadata": {},
   "outputs": [],
   "source": []
  },
  {
   "cell_type": "code",
   "execution_count": null,
   "metadata": {},
   "outputs": [],
   "source": []
  },
  {
   "cell_type": "code",
   "execution_count": null,
   "metadata": {},
   "outputs": [],
   "source": []
  },
  {
   "cell_type": "code",
   "execution_count": null,
   "metadata": {},
   "outputs": [],
   "source": []
  },
  {
   "cell_type": "code",
   "execution_count": null,
   "metadata": {},
   "outputs": [],
   "source": []
  }
 ],
 "metadata": {
  "kernelspec": {
   "display_name": "Python 3",
   "language": "python",
   "name": "python3"
  },
  "language_info": {
   "codemirror_mode": {
    "name": "ipython",
    "version": 3
   },
   "file_extension": ".py",
   "mimetype": "text/x-python",
   "name": "python",
   "nbconvert_exporter": "python",
   "pygments_lexer": "ipython3",
   "version": "3.6.5"
  }
 },
 "nbformat": 4,
 "nbformat_minor": 2
}
