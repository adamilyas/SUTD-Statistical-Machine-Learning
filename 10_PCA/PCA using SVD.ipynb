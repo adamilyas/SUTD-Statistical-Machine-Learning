{
 "cells": [
  {
   "cell_type": "markdown",
   "metadata": {},
   "source": [
    "# Statistical and Machine Learning (01.113) - HW4 Question 3\n",
    "By: Adam Ilyas 1002010\n",
    "\n",
    "In this problem, we will perform principal component analysis (PCA) on sklearn’s diabetes dataset. Start by importing the required packages and load the dataset."
   ]
  },
  {
   "cell_type": "code",
   "execution_count": 1,
   "metadata": {},
   "outputs": [],
   "source": [
    "import numpy as np\n",
    "from sklearn import decomposition, datasets\n",
    "import matplotlib.pyplot as plt\n",
    "import seaborn as sns\n",
    "import pandas as pd\n",
    "%matplotlib inline"
   ]
  },
  {
   "cell_type": "code",
   "execution_count": 2,
   "metadata": {},
   "outputs": [],
   "source": [
    "data = datasets.load_diabetes()"
   ]
  },
  {
   "cell_type": "markdown",
   "metadata": {},
   "source": [
    "You can find out more on how to use sklearn’s PCA module from:\n",
    "\n",
    "https://scikit-learn.org/stable/modules/generated/sklearn.decomposition.PCA.html"
   ]
  },
  {
   "cell_type": "code",
   "execution_count": 3,
   "metadata": {},
   "outputs": [
    {
     "data": {
      "text/html": [
       "<div>\n",
       "<style scoped>\n",
       "    .dataframe tbody tr th:only-of-type {\n",
       "        vertical-align: middle;\n",
       "    }\n",
       "\n",
       "    .dataframe tbody tr th {\n",
       "        vertical-align: top;\n",
       "    }\n",
       "\n",
       "    .dataframe thead th {\n",
       "        text-align: right;\n",
       "    }\n",
       "</style>\n",
       "<table border=\"1\" class=\"dataframe\">\n",
       "  <thead>\n",
       "    <tr style=\"text-align: right;\">\n",
       "      <th></th>\n",
       "      <th>age</th>\n",
       "      <th>sex</th>\n",
       "      <th>bmi</th>\n",
       "      <th>bp</th>\n",
       "      <th>s1</th>\n",
       "      <th>s2</th>\n",
       "      <th>s3</th>\n",
       "      <th>s4</th>\n",
       "      <th>s5</th>\n",
       "      <th>s6</th>\n",
       "    </tr>\n",
       "  </thead>\n",
       "  <tbody>\n",
       "    <tr>\n",
       "      <th>0</th>\n",
       "      <td>0.038076</td>\n",
       "      <td>0.050680</td>\n",
       "      <td>0.061696</td>\n",
       "      <td>0.021872</td>\n",
       "      <td>-0.044223</td>\n",
       "      <td>-0.034821</td>\n",
       "      <td>-0.043401</td>\n",
       "      <td>-0.002592</td>\n",
       "      <td>0.019908</td>\n",
       "      <td>-0.017646</td>\n",
       "    </tr>\n",
       "    <tr>\n",
       "      <th>1</th>\n",
       "      <td>-0.001882</td>\n",
       "      <td>-0.044642</td>\n",
       "      <td>-0.051474</td>\n",
       "      <td>-0.026328</td>\n",
       "      <td>-0.008449</td>\n",
       "      <td>-0.019163</td>\n",
       "      <td>0.074412</td>\n",
       "      <td>-0.039493</td>\n",
       "      <td>-0.068330</td>\n",
       "      <td>-0.092204</td>\n",
       "    </tr>\n",
       "    <tr>\n",
       "      <th>2</th>\n",
       "      <td>0.085299</td>\n",
       "      <td>0.050680</td>\n",
       "      <td>0.044451</td>\n",
       "      <td>-0.005671</td>\n",
       "      <td>-0.045599</td>\n",
       "      <td>-0.034194</td>\n",
       "      <td>-0.032356</td>\n",
       "      <td>-0.002592</td>\n",
       "      <td>0.002864</td>\n",
       "      <td>-0.025930</td>\n",
       "    </tr>\n",
       "    <tr>\n",
       "      <th>3</th>\n",
       "      <td>-0.089063</td>\n",
       "      <td>-0.044642</td>\n",
       "      <td>-0.011595</td>\n",
       "      <td>-0.036656</td>\n",
       "      <td>0.012191</td>\n",
       "      <td>0.024991</td>\n",
       "      <td>-0.036038</td>\n",
       "      <td>0.034309</td>\n",
       "      <td>0.022692</td>\n",
       "      <td>-0.009362</td>\n",
       "    </tr>\n",
       "    <tr>\n",
       "      <th>4</th>\n",
       "      <td>0.005383</td>\n",
       "      <td>-0.044642</td>\n",
       "      <td>-0.036385</td>\n",
       "      <td>0.021872</td>\n",
       "      <td>0.003935</td>\n",
       "      <td>0.015596</td>\n",
       "      <td>0.008142</td>\n",
       "      <td>-0.002592</td>\n",
       "      <td>-0.031991</td>\n",
       "      <td>-0.046641</td>\n",
       "    </tr>\n",
       "  </tbody>\n",
       "</table>\n",
       "</div>"
      ],
      "text/plain": [
       "        age       sex       bmi        bp        s1        s2        s3  \\\n",
       "0  0.038076  0.050680  0.061696  0.021872 -0.044223 -0.034821 -0.043401   \n",
       "1 -0.001882 -0.044642 -0.051474 -0.026328 -0.008449 -0.019163  0.074412   \n",
       "2  0.085299  0.050680  0.044451 -0.005671 -0.045599 -0.034194 -0.032356   \n",
       "3 -0.089063 -0.044642 -0.011595 -0.036656  0.012191  0.024991 -0.036038   \n",
       "4  0.005383 -0.044642 -0.036385  0.021872  0.003935  0.015596  0.008142   \n",
       "\n",
       "         s4        s5        s6  \n",
       "0 -0.002592  0.019908 -0.017646  \n",
       "1 -0.039493 -0.068330 -0.092204  \n",
       "2 -0.002592  0.002864 -0.025930  \n",
       "3  0.034309  0.022692 -0.009362  \n",
       "4 -0.002592 -0.031991 -0.046641  "
      ]
     },
     "execution_count": 3,
     "metadata": {},
     "output_type": "execute_result"
    }
   ],
   "source": [
    "X = data[\"data\"]\n",
    "y = data[\"target\"]\n",
    "feature_names = data[\"feature_names\"]\n",
    "df = pd.DataFrame(X, columns=feature_names)\n",
    "df.head()"
   ]
  },
  {
   "cell_type": "markdown",
   "metadata": {},
   "source": [
    "## Write code to print the matrix V that will be used to transform the dataset, and print all the singular values."
   ]
  },
  {
   "cell_type": "markdown",
   "metadata": {},
   "source": [
    "Given a design matrix $X$, perform the following steps:\n",
    "\n",
    "1. Normalize each column of $X$:\n",
    "\n",
    "For each column of $X$, compute the mean and subtract it\n",
    "from each entry in the column. At the same time, compute\n",
    "the standard deviation and divide each entry in the column by\n",
    "it (this ensures that each column is normalized to have mean\n",
    "0 and standard deviation 1).\n",
    "2. Do SVD on $X$ to yield $X = U\\Sigma V^\\intercal$\n",
    "3. Multiply $X$ by $V$ to get $XV = U\\Sigma$\n",
    "4. Retain the first $L$ columns of $XV$ and remove the remaining\n",
    "columns."
   ]
  },
  {
   "cell_type": "code",
   "execution_count": 4,
   "metadata": {},
   "outputs": [],
   "source": [
    "def StandardScaler(X):\n",
    "    \"\"\"\n",
    "    X: 2d array\n",
    "    Returns\n",
    "        X with each columns scaled by the column mean and column std\n",
    "    \"\"\"\n",
    "    N, d = X.shape\n",
    "    scaled_data = np.zeros((N, d))\n",
    "    for col_index in range(10):\n",
    "        current_column = X[:, col_index]\n",
    "        col_mean = np.mean(current_column)\n",
    "        col_std = np.std(current_column)\n",
    "        scaled_data[:, col_index] = [(el - col_mean)/col_std for el in current_column]\n",
    "    return scaled_data"
   ]
  },
  {
   "cell_type": "code",
   "execution_count": 5,
   "metadata": {},
   "outputs": [],
   "source": [
    "X_scaled = StandardScaler(X)\n",
    "u, s, vh = np.linalg.svd(X_scaled)"
   ]
  },
  {
   "cell_type": "code",
   "execution_count": 6,
   "metadata": {},
   "outputs": [
    {
     "name": "stdout",
     "output_type": "stream",
     "text": [
      "Matrix V: \n",
      "[[-0.21643101  0.04437151  0.49466811 -0.4140095  -0.68686389  0.2258505\n",
      "  -0.10953821  0.01493468 -0.00810057 -0.00326309]\n",
      " [-0.18696711 -0.38654811 -0.10685833 -0.67986052  0.37345612 -0.04173103\n",
      "  -0.06760551  0.44293966  0.00210552 -0.00366069]\n",
      " [-0.3031625  -0.15628061  0.1675317   0.49982533  0.12935936  0.4031419\n",
      "  -0.51985787  0.39294187 -0.04237751 -0.00824809]\n",
      " [-0.2717397  -0.13825564  0.51356804 -0.01966734  0.48689014  0.27276274\n",
      "   0.32064908 -0.47736435 -0.0271941   0.00322111]\n",
      " [-0.34325493  0.57302669 -0.0685867  -0.06839533  0.12917415 -0.00540864\n",
      "   0.07364908  0.12941351  0.04203984 -0.70977447]\n",
      " [-0.35186062  0.45593985 -0.26969438 -0.16777384  0.11673143  0.1332572\n",
      "  -0.23054011 -0.19131121  0.35931549  0.56319605]\n",
      " [ 0.28243639  0.50624287  0.38602787 -0.07602005  0.24499115 -0.1063716\n",
      "  -0.00753445  0.32463641 -0.48124771  0.31744413]\n",
      " [-0.42883325 -0.06818423 -0.38068121  0.0079212  -0.14364377  0.0339454\n",
      "   0.07123619 -0.18058834 -0.77381656  0.09059464]\n",
      " [-0.37861731 -0.0261893   0.0636315   0.26442742 -0.1516611  -0.17873005\n",
      "   0.64731345  0.44966002  0.18945947  0.26446735]\n",
      " [-0.32218282 -0.0849466   0.27684271  0.08708624  0.03138792 -0.80506447\n",
      "  -0.35727279 -0.1666087   0.01527381 -0.0026109 ]]\n"
     ]
    }
   ],
   "source": [
    "print(\"Matrix V: \")\n",
    "V = vh.T\n",
    "print(V)"
   ]
  },
  {
   "cell_type": "code",
   "execution_count": 7,
   "metadata": {},
   "outputs": [
    {
     "name": "stdout",
     "output_type": "stream",
     "text": [
      "Singular Values:\n",
      "[42.17466853 25.68276971 23.08755816 20.55043949 17.10806903 16.32182255\n",
      " 15.39999097 13.84514267  5.88365535  1.94518745]\n"
     ]
    }
   ],
   "source": [
    "print('Singular Values:')\n",
    "print(s)"
   ]
  },
  {
   "cell_type": "markdown",
   "metadata": {},
   "source": [
    "## Now perform PCA on the dataset and print out the 3 most important components for the first 10 data-points."
   ]
  },
  {
   "cell_type": "code",
   "execution_count": 8,
   "metadata": {},
   "outputs": [],
   "source": [
    "def pca_transform(X, n_components=2):\n",
    "    X_scaled = StandardScaler(X)\n",
    "    u, s, vh = np.linalg.svd(X_scaled)\n",
    "    V = vh.T\n",
    "    XV = X_scaled@V\n",
    "    return XV[:, :n_components]"
   ]
  },
  {
   "cell_type": "code",
   "execution_count": 9,
   "metadata": {
    "scrolled": true
   },
   "outputs": [
    {
     "data": {
      "text/plain": [
       "(442, 3)"
      ]
     },
     "execution_count": 9,
     "metadata": {},
     "output_type": "execute_result"
    }
   ],
   "source": [
    "X_pca = pca_transform(X, n_components=3)\n",
    "X_pca.shape"
   ]
  },
  {
   "cell_type": "code",
   "execution_count": 10,
   "metadata": {},
   "outputs": [
    {
     "data": {
      "text/plain": [
       "array([[-0.58720767, -1.94682793,  0.58923299],\n",
       "       [ 2.83161209,  1.37208454,  0.02791506],\n",
       "       [-0.27214757, -1.63489803,  0.73927034],\n",
       "       [-0.04931005,  0.38225333, -2.01303697],\n",
       "       [ 0.75645071,  0.81196754, -0.05725853],\n",
       "       [ 3.96635524, -0.38105927, -0.33738317],\n",
       "       [ 1.99378667, -0.80553831, -0.71219915],\n",
       "       [-2.07586704,  1.82792114,  0.52492352],\n",
       "       [-0.60303259, -0.88125266, -0.07671973],\n",
       "       [ 0.21215262, -0.49290431, -0.81436321]])"
      ]
     },
     "execution_count": 10,
     "metadata": {},
     "output_type": "execute_result"
    }
   ],
   "source": [
    "# first 10 data points\n",
    "X_pca[:10]"
   ]
  }
 ],
 "metadata": {
  "kernelspec": {
   "display_name": "Python 3",
   "language": "python",
   "name": "python3"
  },
  "language_info": {
   "codemirror_mode": {
    "name": "ipython",
    "version": 3
   },
   "file_extension": ".py",
   "mimetype": "text/x-python",
   "name": "python",
   "nbconvert_exporter": "python",
   "pygments_lexer": "ipython3",
   "version": "3.6.5"
  }
 },
 "nbformat": 4,
 "nbformat_minor": 2
}
